{
 "cells": [
  {
   "cell_type": "markdown",
   "metadata": {},
   "source": [
    "<img src=\"https://bit.ly/2VnXWr2\" width=\"100\" align=\"left\">"
   ]
  },
  {
   "cell_type": "markdown",
   "metadata": {},
   "source": [
    "# Duel of Sorcerers\n",
    "You are witnessing an epic battle between two powerful sorcerers: Gandalf and Saruman. Each sorcerer has 10 spells of variable power in their mind and they are going to throw them one after the other. The winner of the duel will be the one who wins more of those clashes between spells. Spells are represented as a list of 10 integers whose value equals the power of the spell.\n",
    "```\n",
    "gandalf = [10, 11, 13, 30, 22, 11, 10, 33, 22, 22]\n",
    "saruman = [23, 66, 12, 43, 12, 10, 44, 23, 12, 17]\n",
    "```\n",
    "For example:\n",
    "- The first clash is won by Saruman: 10 against 23.\n",
    "- The second clash is won by Saruman: 11 against 66.\n",
    "- ...\n",
    "\n",
    "You will create two variables, one for each sorcerer, where the sum of clashes won will be stored. Depending on which variable is greater at the end of the duel, you will show one of the following three results on the screen:\n",
    "* Gandalf wins\n",
    "* Saruman wins\n",
    "* Tie\n",
    "\n",
    "<img src=\"images/content_lightning_bolt_big.jpg\" width=\"400\">"
   ]
  },
  {
   "cell_type": "markdown",
   "metadata": {},
   "source": [
    "## Tools\n",
    "You don't necessarily need to use all the tools. Maybe you opt to use some of them or completely different ones, they are given to help you shape the exercise. Programming exercises can be solved in many different ways.\n",
    "\n",
    "1. Data structures: **lists, dictionaries**\n",
    "2. Loop: **for loop**\n",
    "3. Conditional statements: **if-elif-else**\n",
    "4. Functions: **range(), len(), print()**\n",
    "\n",
    "## Tasks\n",
    "\n",
    "#### 1. Create two variables called `gandalf` and `saruman` and assign them the spell power lists. Create a variable called `spells` to store the number of spells that the sorcerers cast. "
   ]
  },
  {
   "cell_type": "code",
   "execution_count": 16,
   "metadata": {},
   "outputs": [],
   "source": [
    "gandalf = [10, 11, 13, 30, 22, 11, 10, 33, 22, 22]\n",
    "saruman = [23, 66, 12, 43, 12, 10, 44, 23, 12, 17]"
   ]
  },
  {
   "cell_type": "markdown",
   "metadata": {},
   "source": [
    "#### 2. Create two variables called `gandalf_wins` and `saruman_wins`. Set both of them to 0. \n",
    "You will use these variables to count the number of clashes each sorcerer wins. "
   ]
  },
  {
   "cell_type": "code",
   "execution_count": 17,
   "metadata": {},
   "outputs": [],
   "source": [
    "spells = 0\n",
    "\n",
    "gandalf_wins = 0\n",
    "saruman_wins = 0"
   ]
  },
  {
   "cell_type": "markdown",
   "metadata": {},
   "source": [
    "#### 3. Using the lists of spells of both sorcerers, update variables `gandalf_wins` and `saruman_wins` to count the number of times each sorcerer wins a clash. "
   ]
  },
  {
   "cell_type": "code",
   "execution_count": 18,
   "metadata": {},
   "outputs": [
    {
     "name": "stdout",
     "output_type": "stream",
     "text": [
      "Total de combates ganados por Gandalf 6\n",
      "Total de combates ganados por Saruman 4\n",
      "Gandalf wins!!\n"
     ]
    }
   ],
   "source": [
    "if len(gandalf)== len(saruman):\n",
    "    for i in range(len(gandalf)):\n",
    "        if gandalf[i] > saruman[i]:\n",
    "            gandalf_wins = gandalf_wins +1\n",
    "        else:\n",
    "            saruman_wins = saruman_wins +1\n",
    "\n",
    "print(f\"Total de combates ganados por Gandalf {gandalf_wins}\")\n",
    "print(f\"Total de combates ganados por Saruman {saruman_wins}\")\n",
    "\n",
    "if gandalf_wins > saruman_wins:\n",
    "    print(\"Gandalf wins!!\")\n",
    "else:\n",
    "    print(\"Saruman wins!!\")\n",
    "\n"
   ]
  },
  {
   "cell_type": "code",
   "execution_count": null,
   "metadata": {},
   "outputs": [],
   "source": []
  },
  {
   "cell_type": "markdown",
   "metadata": {},
   "source": [
    "#### 4. The battle starts! Using the variables you've created above, code the execution of spell clashes. Remember that a sorcerer wins if he succeeds in winning 3 spell clashes in a row. \n",
    "If a clash ends up in a tie, the counter of wins in a row is not restarted to 0. Remember to print who is the winner of the battle. "
   ]
  },
  {
   "cell_type": "code",
   "execution_count": 19,
   "metadata": {},
   "outputs": [
    {
     "name": "stdout",
     "output_type": "stream",
     "text": [
      "Ataque ganado por Saruman con el hechizo de Lightning bolt\n",
      "Ataque ganado por Saruman con el hechizo de Contagion\n",
      "Ataque ganado por Gandalf con el hechizo de Lightning bolt\n",
      "Ataque ganado por Gandalf con el hechizo de Fireball\n",
      "Ataque ganado por Gandalf con el hechizo de Lightning bolt\n",
      "El vencedor es Gandalf\n"
     ]
    }
   ],
   "source": [
    "import random\n",
    "\n",
    "POWER = {'Fireball': 50,'Lightning bolt': 40,'Magic arrow': 10,\n",
    "             'Black Tentacles': 25,'Contagion': 45}\n",
    "\n",
    "gandalf = ['Fireball', 'Lightning bolt', 'Lightning bolt', 'Magic arrow',\n",
    "           'Fireball','Magic arrow', 'Lightning bolt', 'Fireball', 'Fireball', 'Fireball']\n",
    "saruman = ['Contagion', 'Contagion', 'Black Tentacles', 'Fireball',\n",
    "           'Black Tentacles','Lightning bolt', 'Magic arrow', 'Contagion', 'Magic arrow', 'Magic arrow']\n",
    "\n",
    "\n",
    "\n",
    "gandalf_power = 0\n",
    "gandalf_a = []\n",
    "gandalf_v = 0\n",
    "saruman_power = 0\n",
    "saruman_a = []\n",
    "saruman_v = 0\n",
    "tie = 0\n",
    "victorias = 0\n",
    "\n",
    "gandalf_b= []\n",
    "saruman_b= []\n",
    "\n",
    "\n",
    "\n",
    "while (gandalf_v != 3) and (saruman_v !=3):\n",
    "    ataque_g = random.choice(gandalf)\n",
    "    ataque_s = random.choice(saruman)   \n",
    "    for k,v in POWER.items():\n",
    "        if ataque_g == k:\n",
    "            gandalf_power = v\n",
    "            gandalf_b.append(gandalf_power)\n",
    "    for k,v in POWER.items():\n",
    "        if ataque_s == k:\n",
    "            saruman_power = v\n",
    "            saruman_b.append(saruman_power)\n",
    "    if  gandalf_power > saruman_power:\n",
    "        gandalf_v = gandalf_v +1\n",
    "        print(f\"Ataque ganado por Gandalf con el hechizo de {ataque_g}\")\n",
    "    elif saruman_power > gandalf_power:\n",
    "        saruman_power = saruman_power +1\n",
    "        print(f\"Ataque ganado por Saruman con el hechizo de {ataque_s}\")    \n",
    "\n",
    "\n",
    "    if gandalf_v == 3:\n",
    "        victorias = victorias + gandalf_v\n",
    "        print(f\"El vencedor es Gandalf\")       \n",
    "    elif saruman_v == 3:\n",
    "        victorias = victorias + saruman_v\n",
    "        print(f\"El vencedor es Saruman\")      \n",
    "   \n",
    "            \n",
    "\n",
    "\n",
    "total_asaltos = len(gandalf_b)\n",
    "suma_gandalf = sum(gandalf_b)\n",
    "suma_saruman = sum(saruman_b)\n"
   ]
  },
  {
   "cell_type": "markdown",
   "metadata": {},
   "source": [
    "#### 5. Find the average spell power of Gandalf and Saruman. "
   ]
  },
  {
   "cell_type": "code",
   "execution_count": 20,
   "metadata": {},
   "outputs": [
    {
     "name": "stdout",
     "output_type": "stream",
     "text": [
      "El promedio de ataque de Gandalf es de 36\n"
     ]
    }
   ],
   "source": [
    "promedio_gandalf = int(suma_gandalf/total_asaltos)\n",
    "promedio_saruman = int(suma_saruman/total_asaltos)\n",
    "prom = 0\n",
    "print(f\"El promedio de ataque de Gandalf es de {promedio_gandalf}\")\n",
    "print(f\"El promedio de ataque de Saruman es de {promedio_saruman}\")"
   ]
  },
  {
   "cell_type": "markdown",
   "metadata": {},
   "source": [
    "#### 6. Find the standard deviation of the spell power of Gandalf and Saruman. "
   ]
  },
  {
   "cell_type": "code",
   "execution_count": 21,
   "metadata": {},
   "outputs": [
    {
     "name": "stdout",
     "output_type": "stream",
     "text": [
      "La desviación típia de Gandalf es 6.0\n",
      "La desviación típia de Saruman es 18.384776310850235\n"
     ]
    }
   ],
   "source": [
    "for i in gandalf_b:    \n",
    "    prom = prom + ((i - promedio_gandalf) ** 2)\n",
    "    desviacion = (suma_gandalf / len(gandalf_b)) ** 0.5\n",
    "print(f\"La desviación típia de Gandalf es {desviacion}\")\n",
    "\n",
    "for i in saruman_b:    \n",
    "    prom = prom + ((i - promedio_saruman) ** 2)\n",
    "    desviacion_saruman = (prom / len(saruman_b)) ** 0.5\n",
    "print(f\"La desviación típia de Saruman es {desviacion_saruman}\")\n",
    "\n"
   ]
  },
  {
   "cell_type": "code",
   "execution_count": null,
   "metadata": {},
   "outputs": [],
   "source": []
  }
 ],
 "metadata": {
  "kernelspec": {
   "display_name": "Python 3",
   "language": "python",
   "name": "python3"
  },
  "language_info": {
   "codemirror_mode": {
    "name": "ipython",
    "version": 3
   },
   "file_extension": ".py",
   "mimetype": "text/x-python",
   "name": "python",
   "nbconvert_exporter": "python",
   "pygments_lexer": "ipython3",
   "version": "3.8.2"
  }
 },
 "nbformat": 4,
 "nbformat_minor": 2
}
