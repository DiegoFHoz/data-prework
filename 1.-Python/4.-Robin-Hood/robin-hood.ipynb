{
 "cells": [
  {
   "cell_type": "markdown",
   "metadata": {},
   "source": [
    "<img src=\"https://bit.ly/2VnXWr2\" width=\"100\" align=\"left\"/>"
   ]
  },
  {
   "cell_type": "markdown",
   "metadata": {},
   "source": [
    "# Robin Hood\n",
    "Robin Hood has entered a competition to win the archery contest in Sherwood. With his bow and arrows, he needs to shoot on a target and try to hit as close as possible to the center.\n",
    "\n",
    "![](images/arrows.jpg)\n",
    "\n",
    "## Context\n",
    "In this challenge, the landing position of arrows shot by archers in the competition will be represented using 2-dimensional coordinates. \n",
    "\n",
    "In the 2-dimensional space, a point can be defined by a pair of values that correspond to the horizontal coordinate (x) and the vertical coordinate (y). For example, in our case, an arrow that hits the center of the archery target will land in position (0, 0) on the coordinate axes. \n",
    "\n",
    "The space can be divided into 4 zones (quadrants): Q1, Q2, Q3, Q4. If a point is in Q1, both its x coordinate and y coordinate are positive. Any point with a null x or y coordinate is considered to not belong to any quadrant. \n",
    "\n",
    "If you want to know more about the cartesian coordinate system, you can check this [link](https://en.wikipedia.org/wiki/Cartesian_coordinate_system). \n",
    "\n",
    "## Tools\n",
    "You don't necessarily need to use all the tools. Maybe you opt to use some of them or completely different ones, they are given to help you shape the exercise. Programming exercises can be solved in many different ways.\n",
    "* Data structures: **lists, sets, tuples**\n",
    "* Conditional statements: **if-elif-else**\n",
    "* Loop: **while/for**\n",
    "* Minimum (optional sorting)\n",
    "\n",
    "## Tasks\n",
    "Robin Hood has hit the following points:"
   ]
  },
  {
   "cell_type": "code",
   "execution_count": null,
   "metadata": {},
   "outputs": [],
   "source": [
    "points = [(4, 5), (-0, 2), (4, 7), (1, -3), (3, -2), (4, 5), (3, 2), (5, 7), (-5, 7), (2, 2), (-4, 5), (0, -2),\n",
    "          (-4, 7), (-1, 3), (-3, 2), (-4, -5), (-3, 2), (5, 7), (5, 7), (2, 2), (9, 9), (-8, -9)]"
   ]
  },
  {
   "cell_type": "markdown",
   "metadata": {},
   "source": [
    "#### 1. Robin Hood is famous for hitting an arrow with another arrow. Find the coordinates of the points where an arrow hits another arrow."
   ]
  },
  {
   "cell_type": "code",
   "execution_count": 2,
   "metadata": {},
   "outputs": [
    {
     "name": "stdout",
     "output_type": "stream",
     "text": [
      "{(4, 5): 2, (0, 2): 1, (4, 7): 1, (1, -3): 1, (3, -2): 1, (3, 2): 1, (5, 7): 3, (-5, 7): 1, (2, 2): 2, (-4, 5): 1, (0, -2): 1, (-4, 7): 1, (-1, 3): 1, (-3, 2): 2, (-4, -5): 1, (9, 9): 1, (-8, -9): 1}\n"
     ]
    }
   ],
   "source": [
    "points = [(4, 5), (-0, 2), (4, 7), (1, -3), (3, -2), (4, 5), (3, 2), (5, 7), (-5, 7), (2, 2), (-4, 5), (0, -2),\n",
    "          (-4, 7), (-1, 3), (-3, 2), (-4, -5), (-3, 2), (5, 7), (5, 7), (2, 2), (9, 9), (-8, -9)]\n",
    "\n",
    "def rep2 (tupla):\n",
    "    return {i: tupla.count(i) for i in tupla}\n",
    "r2 = rep2(points)\n",
    "print(r2)"
   ]
  },
  {
   "cell_type": "markdown",
   "metadata": {},
   "source": [
    "#### 2. Calculate how many arrows have fallen in each quadrant. \n",
    "**Note**: the arrows that fall in the axis (x=0 or y=0) don't belong to any quadrant."
   ]
  },
  {
   "cell_type": "code",
   "execution_count": 3,
   "metadata": {},
   "outputs": [
    {
     "name": "stdout",
     "output_type": "stream",
     "text": [
      "Primer Cuadrante:\n",
      "(4, 5)(4, 7)(4, 5)(3, 2)(5, 7)(2, 2)(5, 7)(5, 7)(2, 2)(9, 9)\n",
      "Segundo Cuadrante:\n",
      "(-5, 7)(-4, 5)(-4, 7)(-1, 3)(-3, 2)(-3, 2)\n",
      "Tercer Cuadrante:\n",
      "(-4, -5)(-8, -9)\n",
      "Cuarto Cuadrante:\n",
      "(1, -3)(3, -2)\n"
     ]
    }
   ],
   "source": [
    "print(\"Primer Cuadrante:\")\n",
    "for i,j in points:\n",
    "    if i > 0 and j > 0:\n",
    "        print((i,j), end =\"\")\n",
    "print()\n",
    "\n",
    "print(\"Segundo Cuadrante:\")\n",
    "for i,j in points:\n",
    "    if i < 0 and j > 0:\n",
    "        print((i,j), end =\"\")\n",
    "print()\n",
    "\n",
    "print(\"Tercer Cuadrante:\")\n",
    "for i,j in points:\n",
    "    if i < 0 and j < 0:\n",
    "        print((i,j), end =\"\")\n",
    "print()\n",
    "\n",
    "print(\"Cuarto Cuadrante:\")\n",
    "for i,j in points:\n",
    "    if i > 0 and j < 0:\n",
    "        print((i,j), end =\"\")\n",
    "print()"
   ]
  },
  {
   "cell_type": "markdown",
   "metadata": {},
   "source": [
    "#### 3. Find the point closest to the center. Calculate its distance to the center. \n",
    "Take into account that there might be more than one point at the minimum distance to the center.\n",
    "\n",
    "**Hint**: Use the Euclidean distance. You can find more information about it [here](https://en.wikipedia.org/wiki/Euclidean_distance).  \n",
    "**Hint**: Defining a function that calculates the distance to the center can help."
   ]
  },
  {
   "cell_type": "code",
   "execution_count": 4,
   "metadata": {},
   "outputs": [
    {
     "name": "stdout",
     "output_type": "stream",
     "text": [
      "La distancia entre (4,5) y (0,0) es de 6.4\n",
      "La distancia entre (0,2) y (0,0) es de 2.0\n",
      "Punto más cercano al centro:(0, 2)\n",
      "La distancia entre (4,7) y (0,0) es de 8.06\n",
      "La distancia entre (1,-3) y (0,0) es de 3.16\n",
      "La distancia entre (3,-2) y (0,0) es de 3.61\n",
      "La distancia entre (4,5) y (0,0) es de 6.4\n",
      "La distancia entre (3,2) y (0,0) es de 3.61\n",
      "La distancia entre (5,7) y (0,0) es de 8.6\n",
      "La distancia entre (-5,7) y (0,0) es de 8.6\n",
      "La distancia entre (2,2) y (0,0) es de 2.83\n",
      "La distancia entre (-4,5) y (0,0) es de 6.4\n",
      "La distancia entre (0,-2) y (0,0) es de 2.0\n",
      "Punto más cercano al centro:(0, -2)\n",
      "La distancia entre (-4,7) y (0,0) es de 8.06\n",
      "La distancia entre (-1,3) y (0,0) es de 3.16\n",
      "La distancia entre (-3,2) y (0,0) es de 3.61\n",
      "La distancia entre (-4,-5) y (0,0) es de 6.4\n",
      "La distancia entre (-3,2) y (0,0) es de 3.61\n",
      "La distancia entre (5,7) y (0,0) es de 8.6\n",
      "La distancia entre (5,7) y (0,0) es de 8.6\n",
      "La distancia entre (2,2) y (0,0) es de 2.83\n",
      "La distancia entre (9,9) y (0,0) es de 12.73\n",
      "La distancia entre (-8,-9) y (0,0) es de 12.04\n"
     ]
    }
   ],
   "source": [
    "dist = []\n",
    "\n",
    "for i,j in points:\n",
    "    distancia = (((i -0)**2 + (j-0)**2)**0.5)\n",
    "    distancia = round(distancia,2)\n",
    "    print((f\"La distancia entre ({i},{j}) y (0,0) es de {distancia}\"))\n",
    "    dist.append(distancia)\n",
    "    puntoc = (min(dist))\n",
    "    if distancia == 2.0:\n",
    "        print(f\"Punto más cercano al centro:{i,j}\") "
   ]
  },
  {
   "cell_type": "markdown",
   "metadata": {},
   "source": [
    "#### 4. If the archery target has a radius of 9, calculate the number of arrows that won't hit the target. \n",
    "**Hint**: Use the function created in step 3. "
   ]
  },
  {
   "cell_type": "code",
   "execution_count": 5,
   "metadata": {},
   "outputs": [
    {
     "name": "stdout",
     "output_type": "stream",
     "text": [
      "Los tiros que no alcanzaron la diana fueron: \n",
      "(9, 9)(-8, -9)"
     ]
    }
   ],
   "source": [
    "print(\"Los tiros que no alcanzaron la diana fueron: \")      \n",
    "for i,j in points:\n",
    "    distancia = (((i -0)**2 + (j-0)**2)**0.5)\n",
    "    distancia = round(distancia,2)\n",
    "    if distancia > 9:\n",
    "        print((i,j), end=\"\")"
   ]
  },
  {
   "cell_type": "code",
   "execution_count": null,
   "metadata": {},
   "outputs": [],
   "source": []
  }
 ],
 "metadata": {
  "kernelspec": {
   "display_name": "Python 3",
   "language": "python",
   "name": "python3"
  },
  "language_info": {
   "codemirror_mode": {
    "name": "ipython",
    "version": 3
   },
   "file_extension": ".py",
   "mimetype": "text/x-python",
   "name": "python",
   "nbconvert_exporter": "python",
   "pygments_lexer": "ipython3",
   "version": "3.8.2"
  }
 },
 "nbformat": 4,
 "nbformat_minor": 2
}
